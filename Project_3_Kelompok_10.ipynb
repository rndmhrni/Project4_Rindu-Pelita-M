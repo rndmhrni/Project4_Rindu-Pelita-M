{
  "nbformat": 4,
  "nbformat_minor": 0,
  "metadata": {
    "colab": {
      "provenance": []
    },
    "kernelspec": {
      "name": "python3",
      "display_name": "Python 3"
    },
    "language_info": {
      "name": "python"
    }
  },
  "cells": [
    {
      "cell_type": "markdown",
      "source": [
        "**Assignment Detail**\n",
        "\n",
        "Pada tugas kali ini, kita akan membersihkan data marketing_data.csv\n",
        "menggunakan prinsip OOP.\n",
        "\n",
        "Prinsip OOP yang akan digunakan:\n",
        "1. Basic OOP\n",
        "2. Inheritance\n",
        "3. Polymorphism\n",
        "\n",
        "Script dapat menggunakan pandas agar lebih mudah mengerjakan.\n",
        "\n",
        "**Task 1: Basic OOP**\n",
        "\n",
        "Buatlah class MarketingDataETL yang memiliki tiga metode:\n",
        "\n",
        "1. extract(): akan membaca data dari sebuah file CSV (Misalkan,\n",
        "marketing_data.csv)\n",
        "2. transform(): akan melakukan pembersihan dan transformasi sederhana\n",
        "pada data (seperti mengubah format tanggal atau membersihkan nilai\n",
        "yang kosong)\n",
        "3. store(): akan menyimpan data yang telah ditransformasi ke dalam struktur\n",
        "data DataFramet."
      ],
      "metadata": {
        "id": "k4Xqo05r95Pw"
      }
    },
    {
      "cell_type": "code",
      "source": [
        "import pandas as pd\n",
        "\n",
        "class MarketingDataETL():\n",
        "    def extract(self):\n",
        "        self.data = pd.read_csv(\"/content/marketing_data.csv\", sep=';')\n",
        "        print(\"Data sebelum transform:\")\n",
        "        print(self.data)\n",
        "        return self.data\n",
        "\n",
        "    def transform(self):\n",
        "        if 'purchase_date' in self.data.columns:\n",
        "            self.data['purchase_date'] = pd.to_datetime(self.data['purchase_date'], errors='coerce')\n",
        "            self.data = self.data.dropna(subset=['purchase_date'])\n",
        "            print(\"Data setelah transform:\")\n",
        "            print(self.data)\n",
        "            return self.data\n",
        "\n",
        "    def store(self):\n",
        "        if hasattr(self, 'data'):\n",
        "            self.data.to_csv('marketing_data_processed.csv', index=False)\n",
        "            print(\"Data stored successfully as CSV.\")\n",
        "        else:\n",
        "            print(\"Tidak ada data untuk disimpan.\")\n",
        "\n",
        "data = MarketingDataETL()\n",
        "data_before_transform = data.extract()\n",
        "data_after_transform = data.transform()\n",
        "data.store()"
      ],
      "metadata": {
        "colab": {
          "base_uri": "https://localhost:8080/"
        },
        "id": "Fwo3LOvBVzrE",
        "outputId": "722b239a-c339-49c0-ada5-49aecad6afad"
      },
      "execution_count": null,
      "outputs": [
        {
          "output_type": "stream",
          "name": "stdout",
          "text": [
            "Data sebelum transform:\n",
            "  customer_id purchase_date product_category  amount_spent\n",
            "0        C001      01/03/23      Electronics        250.00\n",
            "1        C002      02/03/23            Books         45.50\n",
            "2        C003      03/03/23    Home & Garden        150.75\n",
            "3        C001      04/03/23            Books         20.00\n",
            "4        C002      05/03/23      Electronics        525.00\n",
            "5        C004           NaN      Electronics        399.99\n",
            "6        C003           NaN            Books         10.50\n",
            "7        C005      07/03/23           Beauty         75.00\n",
            "Data setelah transform:\n",
            "  customer_id purchase_date product_category  amount_spent\n",
            "0        C001    2023-01-03      Electronics        250.00\n",
            "1        C002    2023-02-03            Books         45.50\n",
            "2        C003    2023-03-03    Home & Garden        150.75\n",
            "3        C001    2023-04-03            Books         20.00\n",
            "4        C002    2023-05-03      Electronics        525.00\n",
            "7        C005    2023-07-03           Beauty         75.00\n",
            "Data stored successfully as CSV.\n"
          ]
        }
      ]
    },
    {
      "cell_type": "markdown",
      "source": [
        "**Task 2: Inheritance & Polymorphism**\n",
        "\n",
        "1. Gunakan inheritance untuk membuat class TargetedMarketingETL yang mewarisi\n",
        "dari MarketingDataETL.\n",
        "2. Tambahkan metode segment_customers() yang mengelompokkan pelanggan\n",
        "berdasarkan kriteria tertentu (misalnya, pengeluaran total atau kategori produk yang\n",
        "dibeli).\n",
        "3. Demonstrasi polymorphism dengan meng-override metode transform() dalam\n",
        "TargetedMarketingETL untuk menambahkan logika segmentasi pelanggan ke dalam\n",
        "proses transformasi."
      ],
      "metadata": {
        "id": "dN69nNzC-b4x"
      }
    },
    {
      "cell_type": "code",
      "source": [
        "import numpy as np\n",
        "class TargetedMarketingETL(MarketingDataETL):\n",
        "    def __init__(self, file_path):\n",
        "        super().__init__()\n",
        "\n",
        "    def segment_customers(self):\n",
        "        if self.data is not None:\n",
        "            conditions = [\n",
        "                (self.data['amount_spent'] < 100),\n",
        "                (self.data['amount_spent'] >= 100) & (self.data['amount_spent'] < 200),\n",
        "                (self.data['amount_spent'] >= 200)\n",
        "            ]\n",
        "            choices = ['Low Spending', 'Medium Spending', 'High Spending']\n",
        "            self.data['spending_segment'] = pd.Series(np.select(conditions, choices), index=self.data.index)\n",
        "            print(\"Segmentasi berdasarkan pengeluaran customer:\")\n",
        "            print(self.data)\n",
        "        else:\n",
        "            print(\"No data to segment. Please extract data first.\")\n",
        "\n",
        "    def transform(self):\n",
        "        super().transform()\n",
        "        self.segment_customers()\n",
        "\n",
        "    def store_segmented_data(self, output_file_path):\n",
        "        if self.data is not None:\n",
        "            try:\n",
        "                self.data.to_excel(output_file_path, index=False)\n",
        "                print(f\"Data yang sudah di-segmentasi berhasil disimpan ke {output_file_path}\")\n",
        "            except Exception as e:\n",
        "                print(f\"Gagal menyimpan data: {e}\")\n",
        "        else:\n",
        "            print(\"No data to store. Please extract and transform data first.\")\n",
        "\n",
        "# Contoh penggunaan\n",
        "targeted_etl = TargetedMarketingETL(\"marketing_data.csv\")\n",
        "targeted_etl.extract()\n",
        "targeted_etl.transform()\n",
        "targeted_etl.store_segmented_data(\"segmented_data.xlsx\")\n"
      ],
      "metadata": {
        "id": "lOONd1DMCBBw",
        "colab": {
          "base_uri": "https://localhost:8080/"
        },
        "outputId": "a5b9e0d3-35cf-467b-8c98-84741eaaa7f6"
      },
      "execution_count": null,
      "outputs": [
        {
          "output_type": "stream",
          "name": "stdout",
          "text": [
            "Data sebelum transform:\n",
            "  customer_id purchase_date product_category  amount_spent\n",
            "0        C001    01/03/2023      Electronics        250.00\n",
            "1        C002    02/03/2023            Books         45.50\n",
            "2        C003    03/03/2023    Home & Garden        150.75\n",
            "3        C001    04/03/2023            Books         20.00\n",
            "4        C002    05/03/2023      Electronics        525.00\n",
            "5        C004           NaN      Electronics        399.99\n",
            "6        C003           NaN            Books         10.50\n",
            "7        C005    07/03/2023           Beauty         75.00\n",
            "Data setelah transform:\n",
            "  customer_id purchase_date product_category  amount_spent\n",
            "0        C001    2023-01-03      Electronics        250.00\n",
            "1        C002    2023-02-03            Books         45.50\n",
            "2        C003    2023-03-03    Home & Garden        150.75\n",
            "3        C001    2023-04-03            Books         20.00\n",
            "4        C002    2023-05-03      Electronics        525.00\n",
            "7        C005    2023-07-03           Beauty         75.00\n",
            "Segmentasi berdasarkan pengeluaran customer:\n",
            "  customer_id purchase_date product_category  amount_spent spending_segment\n",
            "0        C001    2023-01-03      Electronics        250.00    High Spending\n",
            "1        C002    2023-02-03            Books         45.50     Low Spending\n",
            "2        C003    2023-03-03    Home & Garden        150.75  Medium Spending\n",
            "3        C001    2023-04-03            Books         20.00     Low Spending\n",
            "4        C002    2023-05-03      Electronics        525.00    High Spending\n",
            "7        C005    2023-07-03           Beauty         75.00     Low Spending\n",
            "Data yang sudah di-segmentasi berhasil disimpan ke segmented_data.xlsx\n"
          ]
        }
      ]
    }
  ]
}